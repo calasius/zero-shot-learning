{
 "cells": [
  {
   "cell_type": "code",
   "execution_count": 128,
   "metadata": {},
   "outputs": [
    {
     "name": "stdout",
     "output_type": "stream",
     "text": [
      "The autoreload extension is already loaded. To reload it, use:\n",
      "  %reload_ext autoreload\n",
      "['', '/home/ec2-user/anaconda3/lib/python36.zip', '/home/ec2-user/anaconda3/lib/python3.6', '/home/ec2-user/anaconda3/lib/python3.6/lib-dynload', '/home/ec2-user/.local/lib/python3.6/site-packages', '/home/ec2-user/anaconda3/lib/python3.6/site-packages', '/home/ec2-user/anaconda3/lib/python3.6/site-packages/IPython/extensions', '/home/ec2-user/.ipython', '/home/ec2-user/anaconda3/envs/python3/lib/python3.6/site-packages/', '/home/ec2-user/zero-shot-learning/CADA-VAE-PyTorch/data', '/home/ec2-user/anaconda3/envs/python3/lib/python3.6/site-packages/', '/home/ec2-user/zero-shot-learning/CADA-VAE-PyTorch/data']\n"
     ]
    }
   ],
   "source": [
    "%load_ext autoreload\n",
    "%autoreload 2\n",
    "%matplotlib inline\n",
    "import numpy as np\n",
    "import pickle\n",
    "import os\n",
    "import argparse\n",
    "import sys\n",
    "print(sys.path)\n",
    "sys.path.append('/home/ec2-user/anaconda3/envs/python3/lib/python3.6/site-packages/')\n",
    "import torch\n",
    "from vaemodel import Model\n",
    "import scipy.io as sio\n",
    "import pandas as pd\n",
    "import ntpath\n",
    "from sklearn.manifold import TSNE\n",
    "import pandas as pd\n",
    "RS = 123\n",
    "from utils import scatter_plot\n",
    "from sklearn import preprocessing"
   ]
  },
  {
   "cell_type": "code",
   "execution_count": 290,
   "metadata": {},
   "outputs": [
    {
     "data": {
      "text/plain": [
       "MinMaxScaler(copy=True, feature_range=(0, 1))"
      ]
     },
     "execution_count": 290,
     "metadata": {},
     "output_type": "execute_result"
    }
   ],
   "source": [
    "scaler"
   ]
  },
  {
   "cell_type": "code",
   "execution_count": 129,
   "metadata": {},
   "outputs": [],
   "source": [
    "def remove_file_extension(path):\n",
    "    head, tail = ntpath.split(path)\n",
    "    base = tail or ntpath.basename(head)\n",
    "    return os.path.splitext(base)[0]"
   ]
  },
  {
   "cell_type": "code",
   "execution_count": 130,
   "metadata": {},
   "outputs": [],
   "source": [
    "cls_train_steps = [\n",
    "      {'dataset': 'SUN',  'num_shots': 0, 'generalized': True, 'cls_train_steps': 21},\n",
    "      {'dataset': 'SUN',  'num_shots': 0, 'generalized': False, 'cls_train_steps': 30},\n",
    "      {'dataset': 'SUN',  'num_shots': 1, 'generalized': True, 'cls_train_steps': 22},\n",
    "      {'dataset': 'SUN',  'num_shots': 1, 'generalized': False, 'cls_train_steps': 96},\n",
    "      {'dataset': 'SUN',  'num_shots': 5, 'generalized': True, 'cls_train_steps': 29},\n",
    "      {'dataset': 'SUN',  'num_shots': 5, 'generalized': False, 'cls_train_steps': 78},\n",
    "      {'dataset': 'SUN',  'num_shots': 2, 'generalized': True, 'cls_train_steps': 29},\n",
    "      {'dataset': 'SUN',  'num_shots': 2, 'generalized': False, 'cls_train_steps': 61},\n",
    "      {'dataset': 'SUN',  'num_shots': 10, 'generalized': True, 'cls_train_steps': 79},\n",
    "      {'dataset': 'SUN',  'num_shots': 10, 'generalized': False, 'cls_train_steps': 94},\n",
    "      {'dataset': 'AWA1', 'num_shots': 0, 'generalized': True, 'cls_train_steps': 33},\n",
    "      {'dataset': 'AWA1', 'num_shots': 0, 'generalized': False, 'cls_train_steps': 25},\n",
    "      {'dataset': 'AWA1', 'num_shots': 1, 'generalized': True, 'cls_train_steps': 40},\n",
    "      {'dataset': 'AWA1', 'num_shots': 1, 'generalized': False, 'cls_train_steps': 81},\n",
    "      {'dataset': 'AWA1', 'num_shots': 5, 'generalized': True, 'cls_train_steps': 89},\n",
    "      {'dataset': 'AWA1', 'num_shots': 5, 'generalized': False, 'cls_train_steps': 62},\n",
    "      {'dataset': 'AWA1', 'num_shots': 2, 'generalized': True, 'cls_train_steps': 56},\n",
    "      {'dataset': 'AWA1', 'num_shots': 2, 'generalized': False, 'cls_train_steps': 59},\n",
    "      {'dataset': 'AWA1', 'num_shots': 10, 'generalized': True, 'cls_train_steps': 100},\n",
    "      {'dataset': 'AWA1', 'num_shots': 10, 'generalized': False, 'cls_train_steps': 50},\n",
    "      {'dataset': 'CUB',  'num_shots': 0, 'generalized': True, 'cls_train_steps': 23},\n",
    "      {'dataset': 'CUB',  'num_shots': 0, 'generalized': False, 'cls_train_steps': 22},\n",
    "      {'dataset': 'CUB',  'num_shots': 1, 'generalized': True, 'cls_train_steps': 34},\n",
    "      {'dataset': 'CUB',  'num_shots': 1, 'generalized': False, 'cls_train_steps': 46},\n",
    "      {'dataset': 'CUB',  'num_shots': 5, 'generalized': True, 'cls_train_steps': 64},\n",
    "      {'dataset': 'CUB',  'num_shots': 5, 'generalized': False, 'cls_train_steps': 73},\n",
    "      {'dataset': 'CUB',  'num_shots': 2, 'generalized': True, 'cls_train_steps': 39},\n",
    "      {'dataset': 'CUB',  'num_shots': 2, 'generalized': False, 'cls_train_steps': 31},\n",
    "      {'dataset': 'CUB',  'num_shots': 10, 'generalized': True, 'cls_train_steps': 85},\n",
    "      {'dataset': 'CUB',  'num_shots': 10, 'generalized': False, 'cls_train_steps': 67},\n",
    "      {'dataset': 'AWA2', 'num_shots': 0, 'generalized': True, 'cls_train_steps': 29},\n",
    "      {'dataset': 'AWA2', 'num_shots': 0, 'generalized': False, 'cls_train_steps': 39},\n",
    "      {'dataset': 'AWA2', 'num_shots': 1, 'generalized': True, 'cls_train_steps': 44},\n",
    "      {'dataset': 'AWA2', 'num_shots': 1, 'generalized': False, 'cls_train_steps': 96},\n",
    "      {'dataset': 'AWA2', 'num_shots': 5, 'generalized': True, 'cls_train_steps': 99},\n",
    "      {'dataset': 'AWA2', 'num_shots': 5, 'generalized': False, 'cls_train_steps': 100},\n",
    "      {'dataset': 'AWA2', 'num_shots': 2, 'generalized': True, 'cls_train_steps': 69},\n",
    "      {'dataset': 'AWA2', 'num_shots': 2, 'generalized': False, 'cls_train_steps': 79},\n",
    "      {'dataset': 'AWA2', 'num_shots': 10, 'generalized': True, 'cls_train_steps': 86},\n",
    "      {'dataset': 'AWA2', 'num_shots': 10, 'generalized': False, 'cls_train_steps': 78}\n",
    "      ]"
   ]
  },
  {
   "cell_type": "code",
   "execution_count": 131,
   "metadata": {},
   "outputs": [],
   "source": [
    "hyperparameters = {\n",
    "    'num_shots': 0,\n",
    "    'device': 'cuda',\n",
    "    'model_specifics': {'cross_reconstruction': True,\n",
    "                       'name': 'CADA',\n",
    "                       'distance': 'wasserstein',\n",
    "                       'warmup': {'beta': {'factor': 0.25,\n",
    "                                           'end_epoch': 93,\n",
    "                                           'start_epoch': 0},\n",
    "                                  'cross_reconstruction': {'factor': 2.37,\n",
    "                                                           'end_epoch': 75,\n",
    "                                                           'start_epoch': 21},\n",
    "                                  'distance': {'factor': 8.13,\n",
    "                                               'end_epoch': 22,\n",
    "                                               'start_epoch': 6}}},\n",
    "\n",
    "    'lr_gen_model': 0.00015,\n",
    "    'generalized': True,\n",
    "    'batch_size': 50,\n",
    "    'xyu_samples_per_class': {'SUN': (200, 0, 400, 0),\n",
    "                              'APY': (200, 0, 400, 0),\n",
    "                              'CUB': (200, 0, 400, 0),\n",
    "                              'AWA2': (200, 0, 400, 0),\n",
    "                              'FLO': (200, 0, 400, 0),\n",
    "                              'AWA1': (200, 0, 400, 0)},\n",
    "    'epochs': 100,\n",
    "    'loss': 'l1',\n",
    "    'auxiliary_data_source' : 'attributes',\n",
    "    'lr_cls': 0.001,\n",
    "    'dataset': 'CUB',\n",
    "    'hidden_size_rule': {'resnet_features': (1560, 1660),\n",
    "                        'attributes': (1450, 665),\n",
    "                        'sentences': (1450, 665) },\n",
    "    'latent_size': 64\n",
    "}"
   ]
  },
  {
   "cell_type": "code",
   "execution_count": 132,
   "metadata": {},
   "outputs": [
    {
     "name": "stdout",
     "output_type": "stream",
     "text": [
      "***\n",
      "21\n"
     ]
    }
   ],
   "source": [
    "hyperparameters['dataset'] = 'SUN'\n",
    "hyperparameters['num_shots']= 0\n",
    "hyperparameters['generalized']= True\n",
    "\n",
    "hyperparameters['cls_train_steps'] = [x['cls_train_steps']  for x in cls_train_steps\n",
    "                                        if all([hyperparameters['dataset']==x['dataset'],\n",
    "                                        hyperparameters['num_shots']==x['num_shots'],\n",
    "                                        hyperparameters['generalized']==x['generalized'] ])][0]\n",
    "\n",
    "print('***')\n",
    "print(hyperparameters['cls_train_steps'] )\n",
    "if hyperparameters['generalized']:\n",
    "    if hyperparameters['num_shots']==0:\n",
    "        hyperparameters['samples_per_class'] = {'CUB': (200, 0, 400, 0), 'SUN': (200, 0, 400, 0),\n",
    "                                'APY': (200, 0,  400, 0), 'AWA1': (200, 0, 400, 0),\n",
    "                                'AWA2': (200, 0, 400, 0), 'FLO': (200, 0, 400, 0)}\n",
    "    else:\n",
    "        hyperparameters['samples_per_class'] = {'CUB': (200, 0, 200, 200), 'SUN': (200, 0, 200, 200),\n",
    "                                                    'APY': (200, 0, 200, 200), 'AWA1': (200, 0, 200, 200),\n",
    "                                                    'AWA2': (200, 0, 200, 200), 'FLO': (200, 0, 200, 200)}\n",
    "else:\n",
    "    if hyperparameters['num_shots']==0:\n",
    "        hyperparameters['samples_per_class'] = {'CUB': (0, 0, 200, 0), 'SUN': (0, 0, 200, 0),\n",
    "                                                    'APY': (0, 0, 200, 0), 'AWA1': (0, 0, 200, 0),\n",
    "                                                    'AWA2': (0, 0, 200, 0), 'FLO': (0, 0, 200, 0)}\n",
    "    else:\n",
    "        hyperparameters['samples_per_class'] = {'CUB': (0, 0, 200, 200), 'SUN': (0, 0, 200, 200),\n",
    "                                                    'APY': (0, 0, 200, 200), 'AWA1': (0, 0, 200, 200),\n",
    "                                                    'AWA2': (0, 0, 200, 200), 'FLO': (0, 0, 200, 200)}"
   ]
  },
  {
   "cell_type": "code",
   "execution_count": 133,
   "metadata": {},
   "outputs": [
    {
     "name": "stdout",
     "output_type": "stream",
     "text": [
      "The current working directory is\n",
      "/home/ec2-user/zero-shot-learning/CADA-VAE-PyTorch/model\n",
      "Project Directory:\n",
      "/home/ec2-user/zero-shot-learning/CADA-VAE-PyTorch\n",
      "Data Path\n",
      "/home/ec2-user/zero-shot-learning/CADA-VAE-PyTorch/data\n",
      "_____\n",
      "/home/ec2-user/zero-shot-learning/CADA-VAE-PyTorch/data/SUN/res101.mat\n",
      "resnet_features 2048\n",
      "attributes 102\n"
     ]
    },
    {
     "name": "stderr",
     "output_type": "stream",
     "text": [
      "/home/ec2-user/anaconda3/envs/python3/lib/python3.6/site-packages/torch/nn/functional.py:52: UserWarning: size_average and reduce args will be deprecated, please use reduction='sum' instead.\n",
      "  warnings.warn(warning.format(ret))\n"
     ]
    }
   ],
   "source": [
    "model = Model(hyperparameters)"
   ]
  },
  {
   "cell_type": "code",
   "execution_count": 134,
   "metadata": {},
   "outputs": [],
   "source": [
    "saved_state = torch.load('CADA_trained.pth.tar')\n",
    "model.load_state_dict(saved_state['state_dict'])\n",
    "for d in ['resnet_features', 'attributes']:\n",
    "    model.encoder[d].load_state_dict(saved_state['encoder'][d])\n",
    "    model.decoder[d].load_state_dict(saved_state['decoder'][d])\n",
    "model.reparameterize_with_noise = True"
   ]
  },
  {
   "cell_type": "code",
   "execution_count": 135,
   "metadata": {},
   "outputs": [],
   "source": [
    "dataset = model.dataset"
   ]
  },
  {
   "cell_type": "code",
   "execution_count": 136,
   "metadata": {},
   "outputs": [
    {
     "data": {
      "text/plain": [
       "tensor([  3,  10,  23,  24,  32,  38,  53,  57,  72,  74,  75,  85,  95,  99,\n",
       "        103, 112, 124, 130, 138, 145, 152, 158, 184, 196, 216, 221, 237, 245,\n",
       "        246, 254, 259, 262, 286, 298, 315, 328, 336, 342, 353, 358, 379, 381,\n",
       "        420, 423, 425, 440, 448, 471, 482, 493, 508, 509, 517, 529, 558, 560,\n",
       "        580, 622, 631, 635, 645, 650, 656, 658, 674, 679, 681, 695, 710, 711,\n",
       "        712, 715], device='cuda:0')"
      ]
     },
     "execution_count": 136,
     "metadata": {},
     "output_type": "execute_result"
    }
   ],
   "source": [
    "dataset.novelclasses"
   ]
  },
  {
   "cell_type": "code",
   "execution_count": 137,
   "metadata": {},
   "outputs": [],
   "source": [
    "data = sio.loadmat('../data/SUN/att_splits.mat')"
   ]
  },
  {
   "cell_type": "code",
   "execution_count": 138,
   "metadata": {},
   "outputs": [
    {
     "data": {
      "text/plain": [
       "dict_keys(['__header__', '__version__', '__globals__', 'allclasses_names', 'att', 'original_att', 'test_seen_loc', 'test_unseen_loc', 'train_loc', 'trainval_loc', 'val_loc'])"
      ]
     },
     "execution_count": 138,
     "metadata": {},
     "output_type": "execute_result"
    }
   ],
   "source": [
    "data.keys()"
   ]
  },
  {
   "cell_type": "code",
   "execution_count": 139,
   "metadata": {},
   "outputs": [],
   "source": [
    "attributes_names = np.array(data['allclasses_names'])"
   ]
  },
  {
   "cell_type": "code",
   "execution_count": 140,
   "metadata": {},
   "outputs": [
    {
     "data": {
      "text/plain": [
       "717"
      ]
     },
     "execution_count": 140,
     "metadata": {},
     "output_type": "execute_result"
    }
   ],
   "source": [
    "len(attributes_names)"
   ]
  },
  {
   "cell_type": "code",
   "execution_count": 197,
   "metadata": {},
   "outputs": [],
   "source": [
    "novel_class_names_indices = dataset.novelclasses.cpu().numpy()-1"
   ]
  },
  {
   "cell_type": "code",
   "execution_count": 198,
   "metadata": {},
   "outputs": [],
   "source": [
    "novel_class_names = attributes_names[novel_class_names_indices]"
   ]
  },
  {
   "cell_type": "code",
   "execution_count": 199,
   "metadata": {},
   "outputs": [
    {
     "data": {
      "text/plain": [
       "[(2, array([array(['airfield'], dtype='<U8')], dtype=object)),\n",
       " (9, array([array(['alcove'], dtype='<U6')], dtype=object)),\n",
       " (22,\n",
       "  array([array(['archaelogical_excavation'], dtype='<U24')], dtype=object)),\n",
       " (23, array([array(['archive'], dtype='<U7')], dtype=object)),\n",
       " (31, array([array(['art_studio'], dtype='<U10')], dtype=object)),\n",
       " (37, array([array(['attic'], dtype='<U5')], dtype=object)),\n",
       " (52, array([array(['ball_pit'], dtype='<U8')], dtype=object)),\n",
       " (56, array([array(['bank_outdoor'], dtype='<U12')], dtype=object)),\n",
       " (71, array([array(['batting_cage_indoor'], dtype='<U19')], dtype=object)),\n",
       " (73, array([array(['bayou'], dtype='<U5')], dtype=object)),\n",
       " (74, array([array(['bazaar_indoor'], dtype='<U13')], dtype=object)),\n",
       " (84, array([array(['berth'], dtype='<U5')], dtype=object)),\n",
       " (94, array([array(['boathouse'], dtype='<U9')], dtype=object)),\n",
       " (98, array([array(['botanical_garden'], dtype='<U16')], dtype=object)),\n",
       " (102, array([array(['boxing_ring'], dtype='<U11')], dtype=object)),\n",
       " (111, array([array(['burial_chamber'], dtype='<U14')], dtype=object)),\n",
       " (123, array([array(['campus'], dtype='<U6')], dtype=object)),\n",
       " (129, array([array(['car_interior_backseat'], dtype='<U21')], dtype=object)),\n",
       " (137, array([array(['casino_indoor'], dtype='<U13')], dtype=object)),\n",
       " (144, array([array(['cavern_indoor'], dtype='<U13')], dtype=object)),\n",
       " (151, array([array(['chemical_plant'], dtype='<U14')], dtype=object)),\n",
       " (157, array([array(['childs_room'], dtype='<U11')], dtype=object)),\n",
       " (183, array([array(['corn_field'], dtype='<U10')], dtype=object)),\n",
       " (195, array([array(['crosswalk'], dtype='<U9')], dtype=object)),\n",
       " (215, array([array(['dining_room'], dtype='<U11')], dtype=object)),\n",
       " (220, array([array(['donjon'], dtype='<U6')], dtype=object)),\n",
       " (236,\n",
       "  array([array(['elevator_freight_elevator'], dtype='<U25')], dtype=object)),\n",
       " (244, array([array(['estuary'], dtype='<U7')], dtype=object)),\n",
       " (245, array([array(['excavation'], dtype='<U10')], dtype=object)),\n",
       " (253, array([array(['ferryboat_outdoor'], dtype='<U17')], dtype=object)),\n",
       " (258, array([array(['fire_station'], dtype='<U12')], dtype=object)),\n",
       " (261, array([array(['fish_farm'], dtype='<U9')], dtype=object)),\n",
       " (285, array([array(['furnace_room'], dtype='<U12')], dtype=object)),\n",
       " (297, array([array(['general_store_outdoor'], dtype='<U21')], dtype=object)),\n",
       " (314, array([array(['hallway'], dtype='<U7')], dtype=object)),\n",
       " (327, array([array(['home_theater'], dtype='<U12')], dtype=object)),\n",
       " (335, array([array(['hotel_outdoor'], dtype='<U13')], dtype=object)),\n",
       " (341, array([array(['ice_floe'], dtype='<U8')], dtype=object)),\n",
       " (352, array([array(['islet'], dtype='<U5')], dtype=object)),\n",
       " (357, array([array(['jail_outdoor'], dtype='<U12')], dtype=object)),\n",
       " (378, array([array(['landfill'], dtype='<U8')], dtype=object)),\n",
       " (380, array([array(['laundromat'], dtype='<U10')], dtype=object)),\n",
       " (419, array([array(['mobile_home'], dtype='<U11')], dtype=object)),\n",
       " (422, array([array(['morgue'], dtype='<U6')], dtype=object)),\n",
       " (424, array([array(['mosque_outdoor'], dtype='<U14')], dtype=object)),\n",
       " (439, array([array(['newsstand_outdoor'], dtype='<U17')], dtype=object)),\n",
       " (447, array([array(['observatory_indoor'], dtype='<U18')], dtype=object)),\n",
       " (470, array([array(['parking_garage_outdoor'], dtype='<U22')], dtype=object)),\n",
       " (481, array([array(['physics_laboratory'], dtype='<U18')], dtype=object)),\n",
       " (492, array([array(['plantation_house'], dtype='<U16')], dtype=object)),\n",
       " (507, array([array(['promenade'], dtype='<U9')], dtype=object)),\n",
       " (508, array([array(['promenade_deck'], dtype='<U14')], dtype=object)),\n",
       " (516, array([array(['quonset_hut_outdoor'], dtype='<U19')], dtype=object)),\n",
       " (528, array([array(['recreation_room'], dtype='<U15')], dtype=object)),\n",
       " (557, array([array(['sandbar'], dtype='<U7')], dtype=object)),\n",
       " (559, array([array(['sauna'], dtype='<U5')], dtype=object)),\n",
       " (579, array([array(['ski_lodge'], dtype='<U9')], dtype=object)),\n",
       " (621, array([array(['temple_east_asia'], dtype='<U16')], dtype=object)),\n",
       " (630, array([array(['theater_indoor_round'], dtype='<U20')], dtype=object)),\n",
       " (634, array([array(['throne_room'], dtype='<U11')], dtype=object)),\n",
       " (644, array([array(['track_outdoor'], dtype='<U13')], dtype=object)),\n",
       " (649, array([array(['train_station_outdoor'], dtype='<U21')], dtype=object)),\n",
       " (655, array([array(['trestle_bridge'], dtype='<U14')], dtype=object)),\n",
       " (657, array([array(['tunnel_rail_outdoor'], dtype='<U19')], dtype=object)),\n",
       " (673, array([array(['veranda'], dtype='<U7')], dtype=object)),\n",
       " (678, array([array(['village'], dtype='<U7')], dtype=object)),\n",
       " (680, array([array(['volcano'], dtype='<U7')], dtype=object)),\n",
       " (694, array([array(['waterfall_plunge'], dtype='<U16')], dtype=object)),\n",
       " (709, array([array(['workroom'], dtype='<U8')], dtype=object)),\n",
       " (710, array([array(['workshop'], dtype='<U8')], dtype=object)),\n",
       " (711, array([array(['wrestling_ring_indoor'], dtype='<U21')], dtype=object)),\n",
       " (714, array([array(['zen_garden'], dtype='<U10')], dtype=object))]"
      ]
     },
     "execution_count": 199,
     "metadata": {},
     "output_type": "execute_result"
    }
   ],
   "source": [
    "list(zip(novel_class_names_indices, novel_class_names))"
   ]
  },
  {
   "cell_type": "code",
   "execution_count": 144,
   "metadata": {},
   "outputs": [],
   "source": [
    "attributes = torch.tensor(np.array(data['att']).T)"
   ]
  },
  {
   "cell_type": "code",
   "execution_count": 145,
   "metadata": {},
   "outputs": [],
   "source": [
    "def convert_datapoints_to_z(model, features, encoder):\n",
    "    if features.size(0) != 0:\n",
    "        mu_, logvar_ = encoder(features)\n",
    "        z = model.reparameterize(mu_, logvar_)\n",
    "        return z\n",
    "    else:\n",
    "        return torch.cuda.FloatTensor([])"
   ]
  },
  {
   "cell_type": "code",
   "execution_count": 267,
   "metadata": {},
   "outputs": [],
   "source": [
    "semantic_encoder = model.encoder['attributes']"
   ]
  },
  {
   "cell_type": "code",
   "execution_count": 268,
   "metadata": {},
   "outputs": [],
   "source": [
    "image_encoder = model.encoder['resnet_features']"
   ]
  },
  {
   "cell_type": "code",
   "execution_count": 269,
   "metadata": {},
   "outputs": [],
   "source": [
    "model.reparameterize_with_noise = True\n",
    "semantic_latent_space  = convert_datapoints_to_z(model, attributes.float().cuda(), semantic_encoder)"
   ]
  },
  {
   "cell_type": "code",
   "execution_count": 270,
   "metadata": {},
   "outputs": [
    {
     "data": {
      "text/plain": [
       "torch.Size([717, 64])"
      ]
     },
     "execution_count": 270,
     "metadata": {},
     "output_type": "execute_result"
    }
   ],
   "source": [
    "semantic_latent_space.shape"
   ]
  },
  {
   "cell_type": "code",
   "execution_count": 271,
   "metadata": {},
   "outputs": [],
   "source": [
    "resnet_embeddings = sio.loadmat('../data/SUN/res101.mat')"
   ]
  },
  {
   "cell_type": "code",
   "execution_count": 272,
   "metadata": {},
   "outputs": [
    {
     "data": {
      "text/plain": [
       "dict_keys(['__header__', '__version__', '__globals__', 'image_files', 'features', 'labels'])"
      ]
     },
     "execution_count": 272,
     "metadata": {},
     "output_type": "execute_result"
    }
   ],
   "source": [
    "resnet_embeddings.keys()"
   ]
  },
  {
   "cell_type": "code",
   "execution_count": 273,
   "metadata": {},
   "outputs": [],
   "source": [
    "image_files = resnet_embeddings['image_files']"
   ]
  },
  {
   "cell_type": "code",
   "execution_count": 274,
   "metadata": {
    "scrolled": true
   },
   "outputs": [],
   "source": [
    "image_file_names = [remove_file_extension(p[0][0]) for p in image_files]"
   ]
  },
  {
   "cell_type": "code",
   "execution_count": 275,
   "metadata": {
    "scrolled": true
   },
   "outputs": [],
   "source": [
    "image_labels = [p[0] for p in resnet_embeddings['labels']]"
   ]
  },
  {
   "cell_type": "code",
   "execution_count": 276,
   "metadata": {},
   "outputs": [],
   "source": [
    "label_examples = np.array([559,680, 335])"
   ]
  },
  {
   "cell_type": "code",
   "execution_count": 277,
   "metadata": {},
   "outputs": [],
   "source": [
    "df = pd.DataFrame(resnet_embeddings['features'].T)"
   ]
  },
  {
   "cell_type": "code",
   "execution_count": 278,
   "metadata": {},
   "outputs": [],
   "source": [
    "df['files'] = image_file_names"
   ]
  },
  {
   "cell_type": "code",
   "execution_count": 279,
   "metadata": {},
   "outputs": [],
   "source": [
    "df['labels'] = image_labels"
   ]
  },
  {
   "cell_type": "code",
   "execution_count": 280,
   "metadata": {},
   "outputs": [],
   "source": [
    "df_novel_examples = df[df.labels.isin(label_examples)]"
   ]
  },
  {
   "cell_type": "code",
   "execution_count": 300,
   "metadata": {},
   "outputs": [
    {
     "name": "stderr",
     "output_type": "stream",
     "text": [
      "/home/ec2-user/anaconda3/lib/python3.6/site-packages/ipykernel_launcher.py:1: FutureWarning: Method .as_matrix will be removed in a future version. Use .values instead.\n",
      "  \"\"\"Entry point for launching an IPython kernel.\n"
     ]
    }
   ],
   "source": [
    "ejemplos = torch.from_numpy(df_novel_examples.iloc[:,:2048].as_matrix()).float().cuda()"
   ]
  },
  {
   "cell_type": "code",
   "execution_count": 301,
   "metadata": {},
   "outputs": [],
   "source": [
    "model.reparameterize_with_noise = True\n",
    "image_latent_space = convert_datapoints_to_z(model, ejemplos, image_encoder)"
   ]
  },
  {
   "cell_type": "code",
   "execution_count": 302,
   "metadata": {},
   "outputs": [
    {
     "data": {
      "text/plain": [
       "torch.Size([60, 64])"
      ]
     },
     "execution_count": 302,
     "metadata": {},
     "output_type": "execute_result"
    }
   ],
   "source": [
    "image_latent_space.shape"
   ]
  },
  {
   "cell_type": "code",
   "execution_count": 303,
   "metadata": {},
   "outputs": [],
   "source": [
    "novel_examples = semantic_latent_space[label_examples]"
   ]
  },
  {
   "cell_type": "code",
   "execution_count": 304,
   "metadata": {},
   "outputs": [],
   "source": [
    "examples = np.vstack([image_latent_space.cpu().detach().numpy(), novel_examples.cpu().detach().numpy()])"
   ]
  },
  {
   "cell_type": "code",
   "execution_count": 305,
   "metadata": {},
   "outputs": [],
   "source": [
    "colors = df_novel_examples.labels.values"
   ]
  },
  {
   "cell_type": "code",
   "execution_count": 306,
   "metadata": {},
   "outputs": [],
   "source": [
    "tsne = TSNE(random_state=RS,n_iter=5000, perplexity=20).fit_transform(examples)"
   ]
  },
  {
   "cell_type": "code",
   "execution_count": 307,
   "metadata": {},
   "outputs": [],
   "source": [
    "colors = np.hstack([colors,np.array(label_examples * 10)])"
   ]
  },
  {
   "cell_type": "code",
   "execution_count": 308,
   "metadata": {},
   "outputs": [
    {
     "data": {
      "text/plain": [
       "(<Figure size 576x576 with 1 Axes>,\n",
       " <matplotlib.axes._subplots.AxesSubplot at 0x7fde952ba240>,\n",
       " <matplotlib.collections.PathCollection at 0x7fde94d8f710>,\n",
       " [Text(-28.946327, 65.0908, '335'),\n",
       "  Text(27.246685, -3.5637717, '559'),\n",
       "  Text(-11.859649, -36.613655, '680'),\n",
       "  Text(-23.28632, 10.436558, '3350'),\n",
       "  Text(-18.713491, 8.546968, '5590'),\n",
       "  Text(-0.46355832, -13.03489, '6800')])"
      ]
     },
     "execution_count": 308,
     "metadata": {},
     "output_type": "execute_result"
    },
    {
     "data": {
      "image/png": "[encoded data removed]",
      "text/plain": [
       "<Figure size 576x576 with 1 Axes>"
      ]
     },
     "metadata": {},
     "output_type": "display_data"
    }
   ],
   "source": [
    "scatter_plot(tsne, colors)"
   ]
  },
  {
   "cell_type": "code",
   "execution_count": null,
   "metadata": {},
   "outputs": [],
   "source": []
  },
  {
   "cell_type": "code",
   "execution_count": null,
   "metadata": {},
   "outputs": [],
   "source": []
  },
  {
   "cell_type": "code",
   "execution_count": null,
   "metadata": {},
   "outputs": [],
   "source": []
  },
  {
   "cell_type": "code",
   "execution_count": null,
   "metadata": {},
   "outputs": [],
   "source": []
  }
 ],
 "metadata": {
  "kernelspec": {
   "display_name": "Python 3",
   "language": "python",
   "name": "python3"
  },
  "language_info": {
   "codemirror_mode": {
    "name": "ipython",
    "version": 3
   },
   "file_extension": ".py",
   "mimetype": "text/x-python",
   "name": "python",
   "nbconvert_exporter": "python",
   "pygments_lexer": "ipython3",
   "version": "3.6.5"
  }
 },
 "nbformat": 4,
 "nbformat_minor": 2
}
