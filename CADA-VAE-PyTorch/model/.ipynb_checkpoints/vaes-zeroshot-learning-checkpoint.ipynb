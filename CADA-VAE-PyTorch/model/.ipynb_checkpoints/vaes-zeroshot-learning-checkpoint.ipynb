{
 "cells": [
  {
   "cell_type": "code",
   "execution_count": 4,
   "metadata": {},
   "outputs": [
    {
     "name": "stdout",
     "output_type": "stream",
     "text": [
      "['', '/home/ec2-user/anaconda3/lib/python36.zip', '/home/ec2-user/anaconda3/lib/python3.6', '/home/ec2-user/anaconda3/lib/python3.6/lib-dynload', '/home/ec2-user/.local/lib/python3.6/site-packages', '/home/ec2-user/anaconda3/lib/python3.6/site-packages', '/home/ec2-user/anaconda3/lib/python3.6/site-packages/IPython/extensions', '/home/ec2-user/.ipython']\n"
     ]
    }
   ],
   "source": [
    "import numpy as np\n",
    "import pickle\n",
    "import os\n",
    "import argparse\n",
    "import sys\n",
    "print(sys.path)\n",
    "sys.path.append('/home/ec2-user/anaconda3/envs/python3/lib/python3.6/site-packages/')\n",
    "import torch\n",
    "from vaemodel import Model"
   ]
  },
  {
   "cell_type": "code",
   "execution_count": 10,
   "metadata": {},
   "outputs": [],
   "source": [
    "cls_train_steps = [\n",
    "      {'dataset': 'SUN',  'num_shots': 0, 'generalized': True, 'cls_train_steps': 21},\n",
    "      {'dataset': 'SUN',  'num_shots': 0, 'generalized': False, 'cls_train_steps': 30},\n",
    "      {'dataset': 'SUN',  'num_shots': 1, 'generalized': True, 'cls_train_steps': 22},\n",
    "      {'dataset': 'SUN',  'num_shots': 1, 'generalized': False, 'cls_train_steps': 96},\n",
    "      {'dataset': 'SUN',  'num_shots': 5, 'generalized': True, 'cls_train_steps': 29},\n",
    "      {'dataset': 'SUN',  'num_shots': 5, 'generalized': False, 'cls_train_steps': 78},\n",
    "      {'dataset': 'SUN',  'num_shots': 2, 'generalized': True, 'cls_train_steps': 29},\n",
    "      {'dataset': 'SUN',  'num_shots': 2, 'generalized': False, 'cls_train_steps': 61},\n",
    "      {'dataset': 'SUN',  'num_shots': 10, 'generalized': True, 'cls_train_steps': 79},\n",
    "      {'dataset': 'SUN',  'num_shots': 10, 'generalized': False, 'cls_train_steps': 94},\n",
    "      {'dataset': 'AWA1', 'num_shots': 0, 'generalized': True, 'cls_train_steps': 33},\n",
    "      {'dataset': 'AWA1', 'num_shots': 0, 'generalized': False, 'cls_train_steps': 25},\n",
    "      {'dataset': 'AWA1', 'num_shots': 1, 'generalized': True, 'cls_train_steps': 40},\n",
    "      {'dataset': 'AWA1', 'num_shots': 1, 'generalized': False, 'cls_train_steps': 81},\n",
    "      {'dataset': 'AWA1', 'num_shots': 5, 'generalized': True, 'cls_train_steps': 89},\n",
    "      {'dataset': 'AWA1', 'num_shots': 5, 'generalized': False, 'cls_train_steps': 62},\n",
    "      {'dataset': 'AWA1', 'num_shots': 2, 'generalized': True, 'cls_train_steps': 56},\n",
    "      {'dataset': 'AWA1', 'num_shots': 2, 'generalized': False, 'cls_train_steps': 59},\n",
    "      {'dataset': 'AWA1', 'num_shots': 10, 'generalized': True, 'cls_train_steps': 100},\n",
    "      {'dataset': 'AWA1', 'num_shots': 10, 'generalized': False, 'cls_train_steps': 50},\n",
    "      {'dataset': 'CUB',  'num_shots': 0, 'generalized': True, 'cls_train_steps': 23},\n",
    "      {'dataset': 'CUB',  'num_shots': 0, 'generalized': False, 'cls_train_steps': 22},\n",
    "      {'dataset': 'CUB',  'num_shots': 1, 'generalized': True, 'cls_train_steps': 34},\n",
    "      {'dataset': 'CUB',  'num_shots': 1, 'generalized': False, 'cls_train_steps': 46},\n",
    "      {'dataset': 'CUB',  'num_shots': 5, 'generalized': True, 'cls_train_steps': 64},\n",
    "      {'dataset': 'CUB',  'num_shots': 5, 'generalized': False, 'cls_train_steps': 73},\n",
    "      {'dataset': 'CUB',  'num_shots': 2, 'generalized': True, 'cls_train_steps': 39},\n",
    "      {'dataset': 'CUB',  'num_shots': 2, 'generalized': False, 'cls_train_steps': 31},\n",
    "      {'dataset': 'CUB',  'num_shots': 10, 'generalized': True, 'cls_train_steps': 85},\n",
    "      {'dataset': 'CUB',  'num_shots': 10, 'generalized': False, 'cls_train_steps': 67},\n",
    "      {'dataset': 'AWA2', 'num_shots': 0, 'generalized': True, 'cls_train_steps': 29},\n",
    "      {'dataset': 'AWA2', 'num_shots': 0, 'generalized': False, 'cls_train_steps': 39},\n",
    "      {'dataset': 'AWA2', 'num_shots': 1, 'generalized': True, 'cls_train_steps': 44},\n",
    "      {'dataset': 'AWA2', 'num_shots': 1, 'generalized': False, 'cls_train_steps': 96},\n",
    "      {'dataset': 'AWA2', 'num_shots': 5, 'generalized': True, 'cls_train_steps': 99},\n",
    "      {'dataset': 'AWA2', 'num_shots': 5, 'generalized': False, 'cls_train_steps': 100},\n",
    "      {'dataset': 'AWA2', 'num_shots': 2, 'generalized': True, 'cls_train_steps': 69},\n",
    "      {'dataset': 'AWA2', 'num_shots': 2, 'generalized': False, 'cls_train_steps': 79},\n",
    "      {'dataset': 'AWA2', 'num_shots': 10, 'generalized': True, 'cls_train_steps': 86},\n",
    "      {'dataset': 'AWA2', 'num_shots': 10, 'generalized': False, 'cls_train_steps': 78}\n",
    "      ]"
   ]
  },
  {
   "cell_type": "code",
   "execution_count": 11,
   "metadata": {},
   "outputs": [],
   "source": [
    "hyperparameters = {\n",
    "    'num_shots': 0,\n",
    "    'device': 'cuda',\n",
    "    'model_specifics': {'cross_reconstruction': True,\n",
    "                       'name': 'CADA',\n",
    "                       'distance': 'wasserstein',\n",
    "                       'warmup': {'beta': {'factor': 0.25,\n",
    "                                           'end_epoch': 93,\n",
    "                                           'start_epoch': 0},\n",
    "                                  'cross_reconstruction': {'factor': 2.37,\n",
    "                                                           'end_epoch': 75,\n",
    "                                                           'start_epoch': 21},\n",
    "                                  'distance': {'factor': 8.13,\n",
    "                                               'end_epoch': 22,\n",
    "                                               'start_epoch': 6}}},\n",
    "\n",
    "    'lr_gen_model': 0.00015,\n",
    "    'generalized': True,\n",
    "    'batch_size': 50,\n",
    "    'xyu_samples_per_class': {'SUN': (200, 0, 400, 0),\n",
    "                              'APY': (200, 0, 400, 0),\n",
    "                              'CUB': (200, 0, 400, 0),\n",
    "                              'AWA2': (200, 0, 400, 0),\n",
    "                              'FLO': (200, 0, 400, 0),\n",
    "                              'AWA1': (200, 0, 400, 0)},\n",
    "    'epochs': 100,\n",
    "    'loss': 'l1',\n",
    "    'auxiliary_data_source' : 'attributes',\n",
    "    'lr_cls': 0.001,\n",
    "    'dataset': 'CUB',\n",
    "    'hidden_size_rule': {'resnet_features': (1560, 1660),\n",
    "                        'attributes': (1450, 665),\n",
    "                        'sentences': (1450, 665) },\n",
    "    'latent_size': 64\n",
    "}"
   ]
  },
  {
   "cell_type": "code",
   "execution_count": 13,
   "metadata": {},
   "outputs": [
    {
     "name": "stdout",
     "output_type": "stream",
     "text": [
      "***\n",
      "21\n"
     ]
    }
   ],
   "source": [
    "hyperparameters['dataset'] = 'SUN'\n",
    "hyperparameters['num_shots']= 0\n",
    "hyperparameters['generalized']= True\n",
    "\n",
    "hyperparameters['cls_train_steps'] = [x['cls_train_steps']  for x in cls_train_steps\n",
    "                                        if all([hyperparameters['dataset']==x['dataset'],\n",
    "                                        hyperparameters['num_shots']==x['num_shots'],\n",
    "                                        hyperparameters['generalized']==x['generalized'] ])][0]\n",
    "\n",
    "print('***')\n",
    "print(hyperparameters['cls_train_steps'] )\n",
    "if hyperparameters['generalized']:\n",
    "    if hyperparameters['num_shots']==0:\n",
    "        hyperparameters['samples_per_class'] = {'CUB': (200, 0, 400, 0), 'SUN': (200, 0, 400, 0),\n",
    "                                'APY': (200, 0,  400, 0), 'AWA1': (200, 0, 400, 0),\n",
    "                                'AWA2': (200, 0, 400, 0), 'FLO': (200, 0, 400, 0)}\n",
    "    else:\n",
    "        hyperparameters['samples_per_class'] = {'CUB': (200, 0, 200, 200), 'SUN': (200, 0, 200, 200),\n",
    "                                                    'APY': (200, 0, 200, 200), 'AWA1': (200, 0, 200, 200),\n",
    "                                                    'AWA2': (200, 0, 200, 200), 'FLO': (200, 0, 200, 200)}\n",
    "else:\n",
    "    if hyperparameters['num_shots']==0:\n",
    "        hyperparameters['samples_per_class'] = {'CUB': (0, 0, 200, 0), 'SUN': (0, 0, 200, 0),\n",
    "                                                    'APY': (0, 0, 200, 0), 'AWA1': (0, 0, 200, 0),\n",
    "                                                    'AWA2': (0, 0, 200, 0), 'FLO': (0, 0, 200, 0)}\n",
    "    else:\n",
    "        hyperparameters['samples_per_class'] = {'CUB': (0, 0, 200, 200), 'SUN': (0, 0, 200, 200),\n",
    "                                                    'APY': (0, 0, 200, 200), 'AWA1': (0, 0, 200, 200),\n",
    "                                                    'AWA2': (0, 0, 200, 200), 'FLO': (0, 0, 200, 200)}"
   ]
  },
  {
   "cell_type": "code",
   "execution_count": 15,
   "metadata": {},
   "outputs": [
    {
     "name": "stdout",
     "output_type": "stream",
     "text": [
      "The current working directory is\n",
      "/home/ec2-user/zero-shot-learning/CADA-VAE-PyTorch/model\n",
      "Project Directory:\n",
      "/home/ec2-user/zero-shot-learning/CADA-VAE-PyTorch\n",
      "Data Path\n",
      "/home/ec2-user/zero-shot-learning/CADA-VAE-PyTorch/data\n",
      "_____\n",
      "/home/ec2-user/zero-shot-learning/CADA-VAE-PyTorch/data/SUN/res101.mat\n",
      "resnet_features 2048\n",
      "attributes 102\n"
     ]
    },
    {
     "name": "stderr",
     "output_type": "stream",
     "text": [
      "/home/ec2-user/anaconda3/envs/python3/lib/python3.6/site-packages/torch/nn/functional.py:52: UserWarning: size_average and reduce args will be deprecated, please use reduction='sum' instead.\n",
      "  warnings.warn(warning.format(ret))\n"
     ]
    }
   ],
   "source": [
    "model = Model(hyperparameters)"
   ]
  },
  {
   "cell_type": "code",
   "execution_count": 19,
   "metadata": {},
   "outputs": [],
   "source": [
    "saved_state = torch.load('CADA_trained.pth.tar')\n",
    "model.load_state_dict(saved_state['state_dict'])\n",
    "for d in ['resnet_features', 'attributes']:\n",
    "    model.encoder[d].load_state_dict(saved_state['encoder'][d])\n",
    "    model.decoder[d].load_state_dict(saved_state['decoder'][d])"
   ]
  },
  {
   "cell_type": "code",
   "execution_count": null,
   "metadata": {},
   "outputs": [],
   "source": []
  }
 ],
 "metadata": {
  "kernelspec": {
   "display_name": "Python 3",
   "language": "python",
   "name": "python3"
  },
  "language_info": {
   "codemirror_mode": {
    "name": "ipython",
    "version": 3
   },
   "file_extension": ".py",
   "mimetype": "text/x-python",
   "name": "python",
   "nbconvert_exporter": "python",
   "pygments_lexer": "ipython3",
   "version": "3.6.5"
  }
 },
 "nbformat": 4,
 "nbformat_minor": 2
}
